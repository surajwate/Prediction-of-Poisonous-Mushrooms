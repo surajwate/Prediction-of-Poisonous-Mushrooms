{
 "cells": [
  {
   "cell_type": "code",
   "execution_count": 177,
   "metadata": {},
   "outputs": [],
   "source": [
    "# This script trains a Random Forest model on the training data with 5-fold cross-validation\n",
    "import sys\n",
    "import os\n",
    "\n",
    "# Add the src folder to the system path\n",
    "sys.path.append(os.path.join(os.getcwd(), '..', 'src'))\n",
    "\n",
    "import pandas as pd\n",
    "import numpy as np\n",
    "from sklearn.impute import SimpleImputer\n",
    "from clean import RareCategoryReplacer\n",
    "from sklearn.preprocessing import OneHotEncoder\n",
    "from sklearn.preprocessing import StandardScaler\n",
    "from sklearn.metrics import matthews_corrcoef, accuracy_score\n",
    "from analyze import missing_values\n",
    "from sklearn.ensemble import RandomForestClassifier\n",
    "from sklearn.metrics import matthews_corrcoef"
   ]
  },
  {
   "cell_type": "code",
   "execution_count": 178,
   "metadata": {},
   "outputs": [],
   "source": [
    "fold = 0\n",
    "# Load the training data with folds\n",
    "df = pd.read_csv(\"../input/train_folds.csv\")"
   ]
  },
  {
   "cell_type": "code",
   "execution_count": 179,
   "metadata": {},
   "outputs": [],
   "source": [
    "# lets take smaller subset of data for faster training\n",
    "df = df.sample(frac=0.1, random_state=0)"
   ]
  },
  {
   "cell_type": "code",
   "execution_count": 180,
   "metadata": {},
   "outputs": [],
   "source": [
    "# df['cap-surface_cap-shape'] = df['cap-surface'] + '_' + df['cap-shape']\n",
    "# df['gill-attachment_gill-color'] = df['gill-attachment'] + '_' + df['gill-color']\n",
    "# df['gill-spacing_gill-color'] = df['gill-spacing'] + '_' + df['gill-color']\n",
    "# df['gill-color_veil-color'] = df['gill-color'] + '_' + df['veil-color']\n",
    "# df['stem-root_stem-color'] = df['stem-root'] + '_' + df['stem-color']\n",
    "# df['stem-surface_gill-color'] = df['stem-surface'] + '_' + df['gill-color']\n",
    "# df['veil-type_cap-shape'] = df['veil-type'] + '_' + df['cap-shape']\n",
    "# df['veil-color_gill-color'] = df['veil-color'] + '_' + df['gill-color']\n",
    "# df['spore-print-color_gill-color'] = df['spore-print-color'] + '_' + df['gill-color']"
   ]
  },
  {
   "cell_type": "code",
   "execution_count": 181,
   "metadata": {},
   "outputs": [],
   "source": [
    "df.drop(columns=['id'], inplace=True)"
   ]
  },
  {
   "cell_type": "code",
   "execution_count": 182,
   "metadata": {},
   "outputs": [],
   "source": [
    "# Split the data into training and validation sets\n",
    "train = df[df.kfold != fold].reset_index(drop=True)\n",
    "valid = df[df.kfold == fold].reset_index(drop=True)\n"
   ]
  },
  {
   "cell_type": "code",
   "execution_count": 183,
   "metadata": {},
   "outputs": [],
   "source": [
    "# Split the features and target\n",
    "X_train = train.drop(\"class\", axis=1)\n",
    "X_valid = valid.drop(\"class\", axis=1)\n",
    "y_train = train[\"class\"]\n",
    "y_valid = valid[\"class\"]"
   ]
  },
  {
   "cell_type": "code",
   "execution_count": 184,
   "metadata": {},
   "outputs": [],
   "source": [
    "# Get the categorical and numerical columns\n",
    "cat_cols =X_train.select_dtypes(include='object').columns\n",
    "num_cols = X_train.select_dtypes(exclude='object').columns"
   ]
  },
  {
   "cell_type": "code",
   "execution_count": 185,
   "metadata": {},
   "outputs": [],
   "source": [
    "# Fill missing values in the numerical columns with the median value\n",
    "imputer = SimpleImputer(strategy='median')\n",
    "X_train[num_cols] = imputer.fit_transform(X_train[num_cols])\n",
    "X_valid[num_cols] = imputer.transform(X_valid[num_cols])"
   ]
  },
  {
   "cell_type": "code",
   "execution_count": 186,
   "metadata": {},
   "outputs": [],
   "source": [
    "# # Fill missing values in the categorical columsn with the mode value\n",
    "# imputer = SimpleImputer(strategy='most_frequent')\n",
    "# X_train[cat_cols] = imputer.fit_transform(X_train[cat_cols])\n",
    "# X_valid[cat_cols] = imputer.transform(X_valid[cat_cols])"
   ]
  },
  {
   "cell_type": "code",
   "execution_count": 187,
   "metadata": {},
   "outputs": [],
   "source": [
    "replacer = RareCategoryReplacer(columns=cat_cols, proportion_threshold=0.01)\n",
    "X_train = replacer.fit_transform(X_train)\n",
    "X_valid = replacer.transform(X_valid)"
   ]
  },
  {
   "cell_type": "code",
   "execution_count": 188,
   "metadata": {},
   "outputs": [],
   "source": [
    "X_train['cap-surface_cap-shape'] = X_train['cap-surface'] + '_' + X_train['cap-shape']\n",
    "X_train['gill-attachment_gill-color'] = X_train['gill-attachment'] + '_' + X_train['gill-color']\n",
    "X_train['gill-spacing_gill-color'] = X_train['gill-spacing'] + '_' + X_train['gill-color']\n",
    "X_train['gill-color_veil-color'] = X_train['gill-color'] + '_' + X_train['veil-color']\n",
    "X_train['stem-root_stem-color'] = X_train['stem-root'] + '_' + X_train['stem-color']\n",
    "X_train['stem-surface_gill-color'] = X_train['stem-surface'] + '_' + X_train['gill-color']\n",
    "X_train['veil-type_cap-shape'] = X_train['veil-type'] + '_' + X_train['cap-shape']\n",
    "X_train['veil-color_gill-color'] = X_train['veil-color'] + '_' + X_train['gill-color']\n",
    "X_train['spore-print-color_gill-color'] = X_train['spore-print-color'] + '_' + X_train['gill-color']\n",
    "\n",
    "\n",
    "X_valid['cap-surface_cap-shape'] = X_valid['cap-surface'] + '_' + X_valid['cap-shape']\n",
    "X_valid['gill-attachment_gill-color'] = X_valid['gill-attachment'] + '_' + X_valid['gill-color']\n",
    "X_valid['gill-spacing_gill-color'] = X_valid['gill-spacing'] + '_' + X_valid['gill-color']\n",
    "X_valid['gill-color_veil-color'] = X_valid['gill-color'] + '_' + X_valid['veil-color']\n",
    "X_valid['stem-root_stem-color'] = X_valid['stem-root'] + '_' + X_valid['stem-color']\n",
    "X_valid['stem-surface_gill-color'] = X_valid['stem-surface'] + '_' + X_valid['gill-color']\n",
    "X_valid['veil-type_cap-shape'] = X_valid['veil-type'] + '_' + X_valid['cap-shape']\n",
    "X_valid['veil-color_gill-color'] = X_valid['veil-color'] + '_' + X_valid['gill-color']\n",
    "X_valid['spore-print-color_gill-color'] = X_valid['spore-print-color'] + '_' + X_valid['gill-color']"
   ]
  },
  {
   "cell_type": "code",
   "execution_count": 189,
   "metadata": {},
   "outputs": [],
   "source": [
    "# Get the categorical and numerical columns\n",
    "cat_cols =X_train.select_dtypes(include='object').columns\n",
    "num_cols = X_train.select_dtypes(exclude='object').columns"
   ]
  },
  {
   "cell_type": "code",
   "execution_count": 190,
   "metadata": {},
   "outputs": [],
   "source": [
    "# Fill missing values in the categorical columsn with the mode value\n",
    "imputer = SimpleImputer(strategy='most_frequent')\n",
    "X_train[cat_cols] = imputer.fit_transform(X_train[cat_cols])\n",
    "X_valid[cat_cols] = imputer.transform(X_valid[cat_cols])"
   ]
  },
  {
   "cell_type": "markdown",
   "metadata": {},
   "source": [
    "### One Hot Encoding"
   ]
  },
  {
   "cell_type": "code",
   "execution_count": 191,
   "metadata": {},
   "outputs": [],
   "source": [
    "encoder = OneHotEncoder(sparse_output=False, handle_unknown='ignore')\n",
    "X_train_encoded = encoder.fit_transform(X_train[cat_cols])\n",
    "X_valid_encoded = encoder.transform(X_valid[cat_cols])\n",
    "\n",
    "# Create a DataFrame with the encoded columns\n",
    "X_train_encoded = pd.DataFrame(X_train_encoded, columns=encoder.get_feature_names_out(cat_cols))\n",
    "X_valid_encoded = pd.DataFrame(X_valid_encoded, columns=encoder.get_feature_names_out(cat_cols))\n",
    "\n",
    "# Drop the original categorical columns from the training and validation sets\n",
    "X_train = X_train.drop(cat_cols, axis=1)\n",
    "X_valid = X_valid.drop(cat_cols, axis=1)\n",
    "\n",
    "# Concatenate the numerical and encoded categorical columns\n",
    "X_train = pd.concat([X_train, X_train_encoded], axis=1)\n",
    "X_valid = pd.concat([X_valid, X_valid_encoded], axis=1)"
   ]
  },
  {
   "cell_type": "markdown",
   "metadata": {},
   "source": [
    "### Target Encoding"
   ]
  },
  {
   "cell_type": "code",
   "execution_count": 192,
   "metadata": {},
   "outputs": [],
   "source": [
    "# from category_encoders import TargetEncoder\n",
    "\n",
    "# target_mapping = {\"p\": 0, \"e\": 1}\n",
    "# y_train_num = y_train.map(target_mapping)\n",
    "\n",
    "# # Create an instance of the TargetEncoder\n",
    "# encoder = TargetEncoder(cols=cat_cols)\n",
    "\n",
    "# # Fit the encoder on the training data and transform the training and validation data\n",
    "# X_train = encoder.fit_transform(X_train, y_train_num)\n",
    "# X_valid = encoder.transform(X_valid)"
   ]
  },
  {
   "cell_type": "code",
   "execution_count": 193,
   "metadata": {},
   "outputs": [],
   "source": [
    "# Scale the numerical columns using the StandardScaler\n",
    "scaler = StandardScaler()\n",
    "X_train[num_cols] = scaler.fit_transform(X_train[num_cols])\n",
    "X_valid[num_cols] = scaler.transform(X_valid[num_cols])"
   ]
  },
  {
   "cell_type": "code",
   "execution_count": 194,
   "metadata": {},
   "outputs": [],
   "source": [
    "# Train a Random Forest model\n",
    "model = RandomForestClassifier(n_jobs=-1, random_state=42)\n",
    "model.fit(X_train, y_train)\n",
    "y_pred = model.predict(X_valid)"
   ]
  },
  {
   "cell_type": "code",
   "execution_count": 195,
   "metadata": {},
   "outputs": [
    {
     "name": "stdout",
     "output_type": "stream",
     "text": [
      "Fold=0, MCC=0.9829532657974156\n",
      "Fold=0, Accuracy=0.9915545422433448\n"
     ]
    }
   ],
   "source": [
    "# Calculate the Matthews correlation coefficient\n",
    "mcc = matthews_corrcoef(y_valid, y_pred)\n",
    "print(f\"Fold={fold}, MCC={mcc}\")\n",
    "# Calculate the accuracy\n",
    "print(f\"Fold={fold}, Accuracy={accuracy_score(y_valid, y_pred)}\")"
   ]
  },
  {
   "cell_type": "code",
   "execution_count": null,
   "metadata": {},
   "outputs": [],
   "source": [
    "\n"
   ]
  },
  {
   "cell_type": "markdown",
   "metadata": {},
   "source": [
    "**Target Encoding**:    \n",
    "Fold=0, MCC=0.983051653860605   \n",
    "Fold=0, Accuracy=0.991597541823805  \n",
    "\n",
    "**One Hot Encoding**:   \n",
    "Fold=0, MCC=0.9834986856205626  \n",
    "Fold=0, Accuracy=0.9918189124286761 \n",
    "\n",
    "**Grid Searched parameters**:   \n",
    "RandomForestClassifier(\n",
    "    n_jobs=-1,\n",
    "    criterion='entropy',\n",
    "    n_estimators=550,\n",
    "    bootstrap=True,\n",
    "    max_depth=65,\n",
    "    max_features='log2',\n",
    "    max_samples=0.9,\n",
    "    min_samples_leaf=1,\n",
    "    min_samples_split=4\n",
    ")\n",
    "\n",
    "Fold=0, MCC=0.9836220432750942  \n",
    "Fold=0, Accuracy=0.9918798695517566 \n",
    "\n"
   ]
  },
  {
   "cell_type": "code",
   "execution_count": null,
   "metadata": {},
   "outputs": [],
   "source": []
  },
  {
   "cell_type": "markdown",
   "metadata": {},
   "source": [
    "### Results to check the performance of Feature Engineering\n",
    "\n",
    "#### Run 1: Without Feature Engineering    \n",
    "**One Hot Encoding**:         \n",
    "Fold=0, MCC=0.983307760869349   \n",
    "Fold=0, Accuracy=0.9917242684744196         \n",
    "        \n",
    "**Target Encoding**:      \n",
    "Fold=0, MCC=0.9831194966418483      \n",
    "Fold=0, Accuracy=0.9916312286549811     \n",
    "\n"
   ]
  },
  {
   "cell_type": "markdown",
   "metadata": {},
   "source": [
    "#### Run 2: With Feature Engineering\n",
    "\n",
    "All the following results will be on the one hot encoded data.\n",
    "\n",
    "**Setting 1**:      \n",
    "X_train['stem-root_stem-color'] = X_train['stem-root'] + '_' + X_train['stem-color']            \n",
    "Time taken to run the model: 5m 26.6s           \n",
    "Fold=0, MCC=0.9833660402922174          \n",
    "Fold=0, Accuracy=0.991753142901142          \n",
    "\n",
    "\n",
    "This is taking too much time. What we should do is to use small samples of the data to check the performance of the model. \n",
    "In there instead of looking at the score we will observe the change in the score. If the score is increasing then we can use the feature engineering on the whole data.\n",
    "Let's begin with 10% of the data.\n",
    "\n",
    "#### Run 3: With Feature Engineering on 10% of the data\n",
    "\n",
    "Fold=0, MCC=0.9827923642002262\n",
    "Fold=0, Accuracy=0.9914742622266466\n",
    "\n",
    "\n",
    "**Setting 1**:\n",
    "X_train['stem-root_stem-color'] = X_train['stem-root'] + '_' + X_train['stem-color']            \n",
    "Time taken to run the model: 13.0s          \n",
    "Fold=0, MCC=0.9821761344513027      \n",
    "Fold=0, Accuracy=0.9911691981631933     \n",
    "\n",
    "**Setting 2**:\n",
    "X_valid['stem-root_stem-color'] = X_valid['stem-root'] + '_' + X_valid['stem-color']\n",
    "X_valid['stem-surface_gill-color'] = X_valid['stem-surface'] + '_' + X_valid['gill-color']\n",
    "Time taken to run the model: 14.4s\n",
    "Fold=0, MCC=0.9819827597168661\n",
    "Fold=0, Accuracy=0.9910728621431554\n",
    "\n",
    "**Setting 3**:\n",
    "X_train['stem-root_stem-color'] = X_train['stem-root'] + '_' + X_train['stem-color']        \n",
    "X_train['stem-surface_gill-color'] = X_train['stem-surface'] + '_' + X_train['gill-color']      \n",
    "X_train['veil-color_gill-color'] = X_train['veil-color'] + '_' + X_train['gill-color']      \n",
    "Time taken to run the model: 15.0s      \n",
    "Fold=0, MCC=0.9816570096455165              \n",
    "Fold=0, Accuracy=0.9909123021097589             \n",
    "\n",
    "**Setting 4**:\n",
    "X_train['stem-root_stem-color'] = X_train['stem-root'] + '_' + X_train['stem-color']    \n",
    "X_train['stem-surface_gill-color'] = X_train['stem-surface'] + '_' + X_train['gill-color']  \n",
    "X_train['veil-color_gill-color'] = X_train['veil-color'] + '_' + X_train['gill-color']  \n",
    "X_train['spore-print-color_gill-color'] = X_train['spore-print-color'] + '_' + X_train['gill-color']    \n",
    "Time taken to run the model: 16.0s  \n",
    "Fold=0, MCC=0.9815588840453281  \n",
    "Fold=0, Accuracy=0.99086413409974   \n",
    "\n",
    "**Setting 5**:\n",
    "X_train['cap-surface_cap-shape'] = X_train['cap-surface'] + '_' + X_train['cap-shape']\n",
    "X_train['gill-attachment_gill-color'] = X_train['gill-attachment'] + '_' + X_train['gill-color']\n",
    "X_train['gill-spacing_gill-color'] = X_train['gill-spacing'] + '_' + X_train['gill-color']\n",
    "X_train['gill-color_veil-color'] = X_train['gill-color'] + '_' + X_train['veil-color']\n",
    "X_train['stem-root_stem-color'] = X_train['stem-root'] + '_' + X_train['stem-color']\n",
    "X_train['stem-surface_gill-color'] = X_train['stem-surface'] + '_' + X_train['gill-color']\n",
    "X_train['veil-type_cap-shape'] = X_train['veil-type'] + '_' + X_train['cap-shape']\n",
    "X_train['veil-color_gill-color'] = X_train['veil-color'] + '_' + X_train['gill-color']\n",
    "X_train['spore-print-color_gill-color'] = X_train['spore-print-color'] + '_' + X_train['gill-color']\n",
    "Time taken to run the model: 23.7s\n",
    "Fold=0, MCC=0.9808775898704652\n",
    "Fold=0, Accuracy=0.9905269580296072\n",
    "\n",
    "**Setting 6**: Same as setting 5 but done imputation of missing values after feature engineering.       \n",
    "Time taken to run the model: 28.0s      \n",
    "Fold=0, MCC=0.9829532657974156      \n",
    "Fold=0, Accuracy=0.9915545422433448     \n",
    "\n",
    "\n",
    "\n"
   ]
  },
  {
   "cell_type": "code",
   "execution_count": null,
   "metadata": {},
   "outputs": [],
   "source": [
    "X_train['cap-surface_cap-shape'] = X_train['cap-surface'] + '_' + X_train['cap-shape']\n",
    "X_train['gill-attachment_gill-color'] = X_train['gill-attachment'] + '_' + X_train['gill-color']\n",
    "X_train['gill-spacing_gill-color'] = X_train['gill-spacing'] + '_' + X_train['gill-color']\n",
    "X_train['gill-color_veil-color'] = X_train['gill-color'] + '_' + X_train['veil-color']\n",
    "X_train['stem-root_stem-color'] = X_train['stem-root'] + '_' + X_train['stem-color']\n",
    "X_train['stem-surface_gill-color'] = X_train['stem-surface'] + '_' + X_train['gill-color']\n",
    "X_train['veil-type_cap-shape'] = X_train['veil-type'] + '_' + X_train['cap-shape']\n",
    "X_train['veil-color_gill-color'] = X_train['veil-color'] + '_' + X_train['gill-color']\n",
    "X_train['spore-print-color_gill-color'] = X_train['spore-print-color'] + '_' + X_train['gill-color']\n",
    "\n",
    "\n",
    "X_test['cap-surface_cap-shape'] = X_test['cap-surface'] + '_' + X_test['cap-shape']\n",
    "X_test['gill-attachment_gill-color'] = X_test['gill-attachment'] + '_' + X_test['gill-color']\n",
    "X_test['gill-spacing_gill-color'] = X_test['gill-spacing'] + '_' + X_test['gill-color']\n",
    "X_test['gill-color_veil-color'] = X_test['gill-color'] + '_' + X_test['veil-color']\n",
    "X_test['stem-root_stem-color'] = X_test['stem-root'] + '_' + X_test['stem-color']\n",
    "X_test['stem-surface_gill-color'] = X_test['stem-surface'] + '_' + X_test['gill-color']\n",
    "X_test['veil-type_cap-shape'] = X_test['veil-type'] + '_' + X_test['cap-shape']\n",
    "X_test['veil-color_gill-color'] = X_test['veil-color'] + '_' + X_test['gill-color']\n",
    "X_test['spore-print-color_gill-color'] = X_test['spore-print-color'] + '_' + X_test['gill-color']"
   ]
  }
 ],
 "metadata": {
  "kernelspec": {
   "display_name": "env",
   "language": "python",
   "name": "python3"
  },
  "language_info": {
   "codemirror_mode": {
    "name": "ipython",
    "version": 3
   },
   "file_extension": ".py",
   "mimetype": "text/x-python",
   "name": "python",
   "nbconvert_exporter": "python",
   "pygments_lexer": "ipython3",
   "version": "3.12.4"
  }
 },
 "nbformat": 4,
 "nbformat_minor": 2
}
